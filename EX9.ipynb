{
 "cells": [
  {
   "cell_type": "code",
   "execution_count": null,
   "metadata": {},
   "outputs": [],
   "source": [
    "import pandas as pd\n",
    "import numpy as np\n",
    "import matplotlib.pyplot as plt\n",
    "from statsmodels.tsa.arima.model import ARIMA\n",
    "from sklearn.metrics import mean_squared_error\n",
    "data = pd.read_csv(\"seattle-weather.csv\")\n",
    "data['date'] = pd.to_datetime(data['date'])\n",
    "data.set_index('date', inplace=True)\n",
    "def arima_model(data, target_variable, order):\n",
    "    train_size = int(len(data) * 0.8)\n",
    "    train_data, test_data = data[:train_size], data[train_size:]\n",
    "\n",
    "    model = ARIMA(train_data[target_variable], order=order)\n",
    "    fitted_model = model.fit()\n",
    "\n",
    "    forecast = fitted_model.forecast(steps=len(test_data))\n",
    "\n",
    "    rmse = np.sqrt(mean_squared_error(test_data[target_variable], forecast))\n",
    "\n",
    "    plt.figure(figsize=(10, 6))\n",
    "    plt.plot(train_data.index, train_data[target_variable], label='Training Data')\n",
    "    plt.plot(test_data.index, test_data[target_variable], label='Testing Data')\n",
    "    plt.plot(test_data.index, forecast, label='Forecasted Data')\n",
    "    plt.xlabel('Date')\n",
    "    plt.ylabel(target_variable)\n",
    "    plt.title('ARIMA Forecasting for ' + target_variable)\n",
    "    plt.legend()\n",
    "    plt.show()\n",
    "\n",
    "    print(\"Root Mean Squared Error (RMSE):\", rmse)\n",
    "\n",
    "arima_model(data, 'temp_max', order=(5,1,0))"
   ]
  }
 ],
 "metadata": {
  "language_info": {
   "name": "python"
  }
 },
 "nbformat": 4,
 "nbformat_minor": 2
}
